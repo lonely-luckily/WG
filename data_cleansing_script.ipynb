{
 "cells": [
  {
   "cell_type": "code",
   "execution_count": 113,
   "metadata": {
    "collapsed": true
   },
   "outputs": [],
   "source": [
    "import pandas as pd\n",
    "\n",
    "#Convertion dictionary definition\n",
    "def string_to_number(string):\n",
    "    missed_zeros = 4 - (len(string) - string.rfind(','))\n",
    "    string = int(string.replace(',', '') + missed_zeros*'0')\n",
    "    if string == 0:\n",
    "        string = None\n",
    "    return string\n",
    "\n",
    "def dollar_string_to_number(string):\n",
    "    missed_zeros = 4 - (len(string) - string.rfind(','))\n",
    "    string = string[1:]\n",
    "    string = int(string.replace(',', '') + missed_zeros*'0')\n",
    "    if string == 0:\n",
    "        string = None\n",
    "    return string\n",
    "\n",
    "def year(date_string):\n",
    "    year_int = int(date_string[-4:])\n",
    "    return year_int\n",
    "\n",
    "convertation_dict = {1:year,\n",
    "                   4:string_to_number,\n",
    "                   6:string_to_number,\n",
    "                   7:string_to_number,\n",
    "                   9:string_to_number,\n",
    "                   11:dollar_string_to_number,\n",
    "                   13:string_to_number,\n",
    "                   19:string_to_number,\n",
    "                   20:string_to_number,\n",
    "                   21:string_to_number,\n",
    "                   22:string_to_number\n",
    "                   }\n",
    "\n",
    "data = pd.read_csv('02 Task data.txt', sep='\\t', header=0, converters=convertation_dict, )\n",
    "data['Exact GDP']=data['Population']*data['GDP per capita']\n",
    "\n"
   ]
  },
  {
   "cell_type": "code",
   "execution_count": 114,
   "metadata": {},
   "outputs": [],
   "source": [
    "countries_without_data = [\n",
    "'American Samoa',\n",
    "'Aruba',\n",
    "'Cayman Islands',\n",
    "'Curacao',\n",
    "'French Polynesia',\n",
    "'Guam',\n",
    "'Korea  Dem. Rep.',\n",
    "'Myanmar',\n",
    "'New Caledonia',\n",
    "'Northern Mariana Islands',\n",
    "'Sint Maarten (Dutch part)',\n",
    "'Somalia',\n",
    "'South Sudan',\n",
    "'St. Martin (French part)',\n",
    "'Turks and Caicos Islands',\n",
    "'Virgin Islands (U.S.)',\n",
    "'West Bank and Gaza',\n",
    "'Channel Islands',\n",
    "'Isle of Man',\n",
    "'Andorra',\n",
    "'Cuba',\n",
    "'San Marino']\n",
    "\n",
    "data = data[~data['Country Name'].isin(countries_without_data)]"
   ]
  },
  {
   "cell_type": "code",
   "execution_count": 116,
   "metadata": {},
   "outputs": [],
   "source": [
    "data.to_csv('cleansed_data.csv', index=False)"
   ]
  }
 ],
 "metadata": {
  "kernelspec": {
   "display_name": "Python 3",
   "language": "python",
   "name": "python3"
  },
  "language_info": {
   "codemirror_mode": {
    "name": "ipython",
    "version": 3
   },
   "file_extension": ".py",
   "mimetype": "text/x-python",
   "name": "python",
   "nbconvert_exporter": "python",
   "pygments_lexer": "ipython3",
   "version": "3.6.1"
  }
 },
 "nbformat": 4,
 "nbformat_minor": 2
}
